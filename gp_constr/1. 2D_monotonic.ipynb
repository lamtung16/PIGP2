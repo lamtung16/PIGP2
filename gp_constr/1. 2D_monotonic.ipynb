{
 "cells": [
  {
   "cell_type": "code",
   "execution_count": 1,
   "metadata": {},
   "outputs": [
    {
     "name": "stderr",
     "output_type": "stream",
     "text": [
      "Unable to determine R home: [WinError 2] The system cannot find the file specified\n"
     ]
    },
    {
     "name": "stdout",
     "output_type": "stream",
     "text": [
      "Loading constrained GP module from C:\\Users\\tln229\\Downloads\\Python Tests\\Constrained GP_2\\GP_2\\gp_constr\n",
      "Loading R wrapper...\n"
     ]
    },
    {
     "name": "stderr",
     "output_type": "stream",
     "text": [
      "R[write to console]: Loading required package: mvtnorm\n",
      "\n",
      "R[write to console]: Loading required package: Matrix\n",
      "\n",
      "R[write to console]: Loading required package: stats4\n",
      "\n",
      "R[write to console]: Loading required package: gmm\n",
      "\n",
      "R[write to console]: Loading required package: sandwich\n",
      "\n",
      "R[write to console]: \n",
      "Attaching package: 'TruncatedNormal'\n",
      "\n",
      "\n",
      "R[write to console]: The following objects are masked from 'package:tmvtnorm':\n",
      "\n",
      "    dtmvnorm, dtmvt, ptmvnorm, ptmvt, rtmvnorm, rtmvt\n",
      "\n",
      "\n",
      "R[write to console]: The following objects are masked from 'package:mvtnorm':\n",
      "\n",
      "    pmvnorm, pmvt\n",
      "\n",
      "\n"
     ]
    },
    {
     "name": "stdout",
     "output_type": "stream",
     "text": [
      "Running R from rpy2: R version 4.2.2 (2022-10-31 ucrt)\n"
     ]
    }
   ],
   "source": [
    "import sys\n",
    "from chart_studio import plotly\n",
    "import plotly.graph_objs as go\n",
    "import plotly.offline as pltlyoff\n",
    "import numpy as np\n",
    "import matplotlib.pyplot as plt\n",
    "import pandas as pd\n",
    "\n",
    "### Custom files ###\n",
    "dir_GPPlotly = 'C:\\\\Users\\\\tln229\\\\Downloads\\\\Python Tests\\\\Constrained GP_2\\\\GP_2\\\\gp_plotly\\\\'\n",
    "sys.path.append(dir_GPPlotly)\n",
    "\n",
    "dir_gp_constr = 'C:\\\\Users\\\\tln229\\\\Downloads\\\\Python Tests\\\\Constrained GP_2\\\\GP_2\\\\gp_constr\\\\'\n",
    "sys.path.append(dir_gp_constr)\n",
    "\n",
    "# Import\n",
    "from GPPlotly.plottingfunctions import PlotGP2d, add_traces_to_fig, gp_diagnostics, pred_vs_error_perc\n",
    "from GPConstr.model import GPmodel, Constraint\n",
    "from GPConstr.kern import kernel_Matern52"
   ]
  },
  {
   "cell_type": "code",
   "execution_count": 2,
   "metadata": {},
   "outputs": [],
   "source": [
    "def get_diagnostics_df(x_test, y_test, mean, var):\n",
    "    \"\"\" Put test data in a dataframe\"\"\"\n",
    "    df = pd.DataFrame(x_test)\n",
    "    df.columns = ['x' + str(i+1) for i in range(x_test.shape[1])]\n",
    "    df['y_true'] = y_test\n",
    "    df['y_mean'] = mean\n",
    "    df['y_var'] = var\n",
    "    \n",
    "    return df"
   ]
  },
  {
   "cell_type": "code",
   "execution_count": 3,
   "metadata": {},
   "outputs": [],
   "source": [
    "# ---------- DATA ----------\n",
    "def func(x):\n",
    "    return x[:, 0] - x[:, 1]\n",
    "\n",
    "# training\n",
    "n_train = 20\n",
    "x1 = np.linspace(0, 10, n_train).reshape(-1, 1)\n",
    "x2 = np.random.uniform(0, 10, n_train).reshape(-1, 1)\n",
    "\n",
    "x_train = np.concatenate((x1, x2), axis = 1)\n",
    "y_train = func(x_train) + np.random.uniform(-2, 2, n_train)\n",
    "\n",
    "# Xv\n",
    "x1v = np.linspace(0, 10, 10).reshape(-1, 1)\n",
    "x2v = np.random.uniform(0, 10, 10).reshape(-1, 1)\n",
    "Xv  = np.concatenate((x1, x2), axis = 1)\n",
    "\n",
    "# testing\n",
    "n_test = 10\n",
    "x1_test = np.linspace(0, 10, n_test).reshape(-1, 1)\n",
    "x2_test = np.random.uniform(0, 10, n_test).reshape(-1, 1)\n",
    "\n",
    "x_test = np.concatenate((x1_test, x2_test), axis = 1)\n",
    "y_test = func(x_test)"
   ]
  },
  {
   "cell_type": "code",
   "execution_count": 4,
   "metadata": {},
   "outputs": [],
   "source": [
    "# ----- MODEL -----\n",
    "ker = kernel_Matern52(variance = 1, lengthscale = [1]*x_train.shape[1])\n",
    "model = GPmodel(kernel = ker, likelihood = 1, mean = 0)\n",
    "\n",
    "# feed data to model\n",
    "model.X_training = x_train\n",
    "model.Y_training = y_train"
   ]
  },
  {
   "cell_type": "code",
   "execution_count": null,
   "metadata": {},
   "outputs": [],
   "source": [
    "# ----- OPTIMIZE -----\n",
    "model.optimize(include_constraint = False, fix_likelihood = False)"
   ]
  },
  {
   "cell_type": "code",
   "execution_count": 6,
   "metadata": {},
   "outputs": [],
   "source": [
    "# ----- CONSTRAINTS -----\n",
    "def constant_function(val):\n",
    "    def fun(x):\n",
    "        return np.array([val]*x.shape[0])\n",
    "    return fun\n",
    "\n",
    "model.constr_deriv = [\n",
    "    Constraint(LB = constant_function(0), UB = constant_function(float('Inf'))),\n",
    "    Constraint(LB = constant_function(float('-Inf')), UB = constant_function(0))\n",
    "]\n",
    "model.constr_deriv[0].Xv = Xv\n",
    "model.constr_deriv[1].Xv = Xv\n",
    "\n",
    "model.constr_likelihood = 1E-6"
   ]
  },
  {
   "cell_type": "code",
   "execution_count": 7,
   "metadata": {},
   "outputs": [
    {
     "name": "stdout",
     "output_type": "stream",
     "text": [
      "..Running calculation of K_w ... SKIP - (cached)\n",
      "..Running calculation of Cholesky factor for K_w ... SKIP - (cached)\n",
      "..Running preparation step 1 - dependence on (XS, X) ... DONE - time: 0.001 seconds\n",
      "..Running preparation step 2 - dependence on (XV, X) ... DONE - time: 0.002 seconds\n",
      "..Running preparation step 3 - dependence on (XS, XV, X) ... DONE - time: 0.000 seconds\n",
      "..sampling 1000 times from truncated constraint distribution C~|C, Y DONE - time: 0.020 seconds\n",
      "..sampling 1000 times from constrained GP f*|C, Y DONE - time: 0.001 seconds\n",
      "..computing statistics from samples DONE - time: 0.000 seconds\n",
      " DONE - Total time: 0.024 seconds\n"
     ]
    },
    {
     "data": {
      "application/vnd.plotly.v1+json": {
       "config": {
        "linkText": "Export to plot.ly",
        "plotlyServerURL": "https://plot.ly",
        "showLink": false
       },
       "data": [
        {
         "error_y": {
          "array": [
           [
            0.8877613319528139,
            0.8180930576666184,
            0.6210856223541423,
            0.7503652168336619,
            1.0071223499972666,
            0.8982958849682978,
            0.6035634674211567,
            0.519572913603228,
            0.8116580108175517,
            0.8255079283315261
           ]
          ],
          "color": "rgb(105, 144, 193)",
          "type": "data",
          "visible": true
         },
         "marker": {
          "color": "rgb(105, 144, 193)",
          "opacity": 0,
          "size": 0
         },
         "mode": "markers",
         "name": "95% intervals",
         "type": "scatter",
         "x": [
          -7.671568458263841,
          -0.24831445063815227,
          -6.464289659277152,
          2.2862466618138866,
          -5.441037201208273,
          5.0353949585762106,
          4.833075574098526,
          2.2962305442276225,
          7.871180889172856,
          4.1381882930515275
         ],
         "y": [
          [
           -7.9703662266044555,
           -1.291413070073544,
           -6.433502643575352,
           2.2502517271448355,
           -5.613395523273073,
           5.981207622730083,
           5.951236615783186,
           2.486292249631848,
           9.358693850530464,
           3.637839294669244
          ]
         ]
        },
        {
         "marker": {
          "color": "rgb(105, 144, 193)",
          "size": 6
         },
         "mode": "markers",
         "name": "Prediction",
         "type": "scatter",
         "x": [
          -7.671568458263841,
          -0.24831445063815227,
          -6.464289659277152,
          2.2862466618138866,
          -5.441037201208273,
          5.0353949585762106,
          4.833075574098526,
          2.2962305442276225,
          7.871180889172856,
          4.1381882930515275
         ],
         "y": [
          -7.955955286181537,
          -1.3079731391058862,
          -6.417198073897959,
          2.2672817125216533,
          -5.655762970668858,
          5.975002095562506,
          5.954230422957,
          2.4913787718468403,
          9.364167554855388,
          3.6325542710737273
         ]
        },
        {
         "line": {
          "color": "rgb(0, 0, 0)",
          "dash": "dash"
         },
         "mode": "lines",
         "name": "x = y",
         "type": "scatter",
         "x": [
          -7.955955286181537,
          7.871180889172856
         ],
         "y": [
          -7.955955286181537,
          7.871180889172856
         ]
        }
       ],
       "layout": {
        "autosize": false,
        "height": 600,
        "showlegend": true,
        "template": {
         "data": {
          "bar": [
           {
            "error_x": {
             "color": "#2a3f5f"
            },
            "error_y": {
             "color": "#2a3f5f"
            },
            "marker": {
             "line": {
              "color": "#E5ECF6",
              "width": 0.5
             },
             "pattern": {
              "fillmode": "overlay",
              "size": 10,
              "solidity": 0.2
             }
            },
            "type": "bar"
           }
          ],
          "barpolar": [
           {
            "marker": {
             "line": {
              "color": "#E5ECF6",
              "width": 0.5
             },
             "pattern": {
              "fillmode": "overlay",
              "size": 10,
              "solidity": 0.2
             }
            },
            "type": "barpolar"
           }
          ],
          "carpet": [
           {
            "aaxis": {
             "endlinecolor": "#2a3f5f",
             "gridcolor": "white",
             "linecolor": "white",
             "minorgridcolor": "white",
             "startlinecolor": "#2a3f5f"
            },
            "baxis": {
             "endlinecolor": "#2a3f5f",
             "gridcolor": "white",
             "linecolor": "white",
             "minorgridcolor": "white",
             "startlinecolor": "#2a3f5f"
            },
            "type": "carpet"
           }
          ],
          "choropleth": [
           {
            "colorbar": {
             "outlinewidth": 0,
             "ticks": ""
            },
            "type": "choropleth"
           }
          ],
          "contour": [
           {
            "colorbar": {
             "outlinewidth": 0,
             "ticks": ""
            },
            "colorscale": [
             [
              0,
              "#0d0887"
             ],
             [
              0.1111111111111111,
              "#46039f"
             ],
             [
              0.2222222222222222,
              "#7201a8"
             ],
             [
              0.3333333333333333,
              "#9c179e"
             ],
             [
              0.4444444444444444,
              "#bd3786"
             ],
             [
              0.5555555555555556,
              "#d8576b"
             ],
             [
              0.6666666666666666,
              "#ed7953"
             ],
             [
              0.7777777777777778,
              "#fb9f3a"
             ],
             [
              0.8888888888888888,
              "#fdca26"
             ],
             [
              1,
              "#f0f921"
             ]
            ],
            "type": "contour"
           }
          ],
          "contourcarpet": [
           {
            "colorbar": {
             "outlinewidth": 0,
             "ticks": ""
            },
            "type": "contourcarpet"
           }
          ],
          "heatmap": [
           {
            "colorbar": {
             "outlinewidth": 0,
             "ticks": ""
            },
            "colorscale": [
             [
              0,
              "#0d0887"
             ],
             [
              0.1111111111111111,
              "#46039f"
             ],
             [
              0.2222222222222222,
              "#7201a8"
             ],
             [
              0.3333333333333333,
              "#9c179e"
             ],
             [
              0.4444444444444444,
              "#bd3786"
             ],
             [
              0.5555555555555556,
              "#d8576b"
             ],
             [
              0.6666666666666666,
              "#ed7953"
             ],
             [
              0.7777777777777778,
              "#fb9f3a"
             ],
             [
              0.8888888888888888,
              "#fdca26"
             ],
             [
              1,
              "#f0f921"
             ]
            ],
            "type": "heatmap"
           }
          ],
          "heatmapgl": [
           {
            "colorbar": {
             "outlinewidth": 0,
             "ticks": ""
            },
            "colorscale": [
             [
              0,
              "#0d0887"
             ],
             [
              0.1111111111111111,
              "#46039f"
             ],
             [
              0.2222222222222222,
              "#7201a8"
             ],
             [
              0.3333333333333333,
              "#9c179e"
             ],
             [
              0.4444444444444444,
              "#bd3786"
             ],
             [
              0.5555555555555556,
              "#d8576b"
             ],
             [
              0.6666666666666666,
              "#ed7953"
             ],
             [
              0.7777777777777778,
              "#fb9f3a"
             ],
             [
              0.8888888888888888,
              "#fdca26"
             ],
             [
              1,
              "#f0f921"
             ]
            ],
            "type": "heatmapgl"
           }
          ],
          "histogram": [
           {
            "marker": {
             "pattern": {
              "fillmode": "overlay",
              "size": 10,
              "solidity": 0.2
             }
            },
            "type": "histogram"
           }
          ],
          "histogram2d": [
           {
            "colorbar": {
             "outlinewidth": 0,
             "ticks": ""
            },
            "colorscale": [
             [
              0,
              "#0d0887"
             ],
             [
              0.1111111111111111,
              "#46039f"
             ],
             [
              0.2222222222222222,
              "#7201a8"
             ],
             [
              0.3333333333333333,
              "#9c179e"
             ],
             [
              0.4444444444444444,
              "#bd3786"
             ],
             [
              0.5555555555555556,
              "#d8576b"
             ],
             [
              0.6666666666666666,
              "#ed7953"
             ],
             [
              0.7777777777777778,
              "#fb9f3a"
             ],
             [
              0.8888888888888888,
              "#fdca26"
             ],
             [
              1,
              "#f0f921"
             ]
            ],
            "type": "histogram2d"
           }
          ],
          "histogram2dcontour": [
           {
            "colorbar": {
             "outlinewidth": 0,
             "ticks": ""
            },
            "colorscale": [
             [
              0,
              "#0d0887"
             ],
             [
              0.1111111111111111,
              "#46039f"
             ],
             [
              0.2222222222222222,
              "#7201a8"
             ],
             [
              0.3333333333333333,
              "#9c179e"
             ],
             [
              0.4444444444444444,
              "#bd3786"
             ],
             [
              0.5555555555555556,
              "#d8576b"
             ],
             [
              0.6666666666666666,
              "#ed7953"
             ],
             [
              0.7777777777777778,
              "#fb9f3a"
             ],
             [
              0.8888888888888888,
              "#fdca26"
             ],
             [
              1,
              "#f0f921"
             ]
            ],
            "type": "histogram2dcontour"
           }
          ],
          "mesh3d": [
           {
            "colorbar": {
             "outlinewidth": 0,
             "ticks": ""
            },
            "type": "mesh3d"
           }
          ],
          "parcoords": [
           {
            "line": {
             "colorbar": {
              "outlinewidth": 0,
              "ticks": ""
             }
            },
            "type": "parcoords"
           }
          ],
          "pie": [
           {
            "automargin": true,
            "type": "pie"
           }
          ],
          "scatter": [
           {
            "fillpattern": {
             "fillmode": "overlay",
             "size": 10,
             "solidity": 0.2
            },
            "type": "scatter"
           }
          ],
          "scatter3d": [
           {
            "line": {
             "colorbar": {
              "outlinewidth": 0,
              "ticks": ""
             }
            },
            "marker": {
             "colorbar": {
              "outlinewidth": 0,
              "ticks": ""
             }
            },
            "type": "scatter3d"
           }
          ],
          "scattercarpet": [
           {
            "marker": {
             "colorbar": {
              "outlinewidth": 0,
              "ticks": ""
             }
            },
            "type": "scattercarpet"
           }
          ],
          "scattergeo": [
           {
            "marker": {
             "colorbar": {
              "outlinewidth": 0,
              "ticks": ""
             }
            },
            "type": "scattergeo"
           }
          ],
          "scattergl": [
           {
            "marker": {
             "colorbar": {
              "outlinewidth": 0,
              "ticks": ""
             }
            },
            "type": "scattergl"
           }
          ],
          "scattermapbox": [
           {
            "marker": {
             "colorbar": {
              "outlinewidth": 0,
              "ticks": ""
             }
            },
            "type": "scattermapbox"
           }
          ],
          "scatterpolar": [
           {
            "marker": {
             "colorbar": {
              "outlinewidth": 0,
              "ticks": ""
             }
            },
            "type": "scatterpolar"
           }
          ],
          "scatterpolargl": [
           {
            "marker": {
             "colorbar": {
              "outlinewidth": 0,
              "ticks": ""
             }
            },
            "type": "scatterpolargl"
           }
          ],
          "scatterternary": [
           {
            "marker": {
             "colorbar": {
              "outlinewidth": 0,
              "ticks": ""
             }
            },
            "type": "scatterternary"
           }
          ],
          "surface": [
           {
            "colorbar": {
             "outlinewidth": 0,
             "ticks": ""
            },
            "colorscale": [
             [
              0,
              "#0d0887"
             ],
             [
              0.1111111111111111,
              "#46039f"
             ],
             [
              0.2222222222222222,
              "#7201a8"
             ],
             [
              0.3333333333333333,
              "#9c179e"
             ],
             [
              0.4444444444444444,
              "#bd3786"
             ],
             [
              0.5555555555555556,
              "#d8576b"
             ],
             [
              0.6666666666666666,
              "#ed7953"
             ],
             [
              0.7777777777777778,
              "#fb9f3a"
             ],
             [
              0.8888888888888888,
              "#fdca26"
             ],
             [
              1,
              "#f0f921"
             ]
            ],
            "type": "surface"
           }
          ],
          "table": [
           {
            "cells": {
             "fill": {
              "color": "#EBF0F8"
             },
             "line": {
              "color": "white"
             }
            },
            "header": {
             "fill": {
              "color": "#C8D4E3"
             },
             "line": {
              "color": "white"
             }
            },
            "type": "table"
           }
          ]
         },
         "layout": {
          "annotationdefaults": {
           "arrowcolor": "#2a3f5f",
           "arrowhead": 0,
           "arrowwidth": 1
          },
          "autotypenumbers": "strict",
          "coloraxis": {
           "colorbar": {
            "outlinewidth": 0,
            "ticks": ""
           }
          },
          "colorscale": {
           "diverging": [
            [
             0,
             "#8e0152"
            ],
            [
             0.1,
             "#c51b7d"
            ],
            [
             0.2,
             "#de77ae"
            ],
            [
             0.3,
             "#f1b6da"
            ],
            [
             0.4,
             "#fde0ef"
            ],
            [
             0.5,
             "#f7f7f7"
            ],
            [
             0.6,
             "#e6f5d0"
            ],
            [
             0.7,
             "#b8e186"
            ],
            [
             0.8,
             "#7fbc41"
            ],
            [
             0.9,
             "#4d9221"
            ],
            [
             1,
             "#276419"
            ]
           ],
           "sequential": [
            [
             0,
             "#0d0887"
            ],
            [
             0.1111111111111111,
             "#46039f"
            ],
            [
             0.2222222222222222,
             "#7201a8"
            ],
            [
             0.3333333333333333,
             "#9c179e"
            ],
            [
             0.4444444444444444,
             "#bd3786"
            ],
            [
             0.5555555555555556,
             "#d8576b"
            ],
            [
             0.6666666666666666,
             "#ed7953"
            ],
            [
             0.7777777777777778,
             "#fb9f3a"
            ],
            [
             0.8888888888888888,
             "#fdca26"
            ],
            [
             1,
             "#f0f921"
            ]
           ],
           "sequentialminus": [
            [
             0,
             "#0d0887"
            ],
            [
             0.1111111111111111,
             "#46039f"
            ],
            [
             0.2222222222222222,
             "#7201a8"
            ],
            [
             0.3333333333333333,
             "#9c179e"
            ],
            [
             0.4444444444444444,
             "#bd3786"
            ],
            [
             0.5555555555555556,
             "#d8576b"
            ],
            [
             0.6666666666666666,
             "#ed7953"
            ],
            [
             0.7777777777777778,
             "#fb9f3a"
            ],
            [
             0.8888888888888888,
             "#fdca26"
            ],
            [
             1,
             "#f0f921"
            ]
           ]
          },
          "colorway": [
           "#636efa",
           "#EF553B",
           "#00cc96",
           "#ab63fa",
           "#FFA15A",
           "#19d3f3",
           "#FF6692",
           "#B6E880",
           "#FF97FF",
           "#FECB52"
          ],
          "font": {
           "color": "#2a3f5f"
          },
          "geo": {
           "bgcolor": "white",
           "lakecolor": "white",
           "landcolor": "#E5ECF6",
           "showlakes": true,
           "showland": true,
           "subunitcolor": "white"
          },
          "hoverlabel": {
           "align": "left"
          },
          "hovermode": "closest",
          "mapbox": {
           "style": "light"
          },
          "paper_bgcolor": "white",
          "plot_bgcolor": "#E5ECF6",
          "polar": {
           "angularaxis": {
            "gridcolor": "white",
            "linecolor": "white",
            "ticks": ""
           },
           "bgcolor": "#E5ECF6",
           "radialaxis": {
            "gridcolor": "white",
            "linecolor": "white",
            "ticks": ""
           }
          },
          "scene": {
           "xaxis": {
            "backgroundcolor": "#E5ECF6",
            "gridcolor": "white",
            "gridwidth": 2,
            "linecolor": "white",
            "showbackground": true,
            "ticks": "",
            "zerolinecolor": "white"
           },
           "yaxis": {
            "backgroundcolor": "#E5ECF6",
            "gridcolor": "white",
            "gridwidth": 2,
            "linecolor": "white",
            "showbackground": true,
            "ticks": "",
            "zerolinecolor": "white"
           },
           "zaxis": {
            "backgroundcolor": "#E5ECF6",
            "gridcolor": "white",
            "gridwidth": 2,
            "linecolor": "white",
            "showbackground": true,
            "ticks": "",
            "zerolinecolor": "white"
           }
          },
          "shapedefaults": {
           "line": {
            "color": "#2a3f5f"
           }
          },
          "ternary": {
           "aaxis": {
            "gridcolor": "white",
            "linecolor": "white",
            "ticks": ""
           },
           "baxis": {
            "gridcolor": "white",
            "linecolor": "white",
            "ticks": ""
           },
           "bgcolor": "#E5ECF6",
           "caxis": {
            "gridcolor": "white",
            "linecolor": "white",
            "ticks": ""
           }
          },
          "title": {
           "x": 0.05
          },
          "xaxis": {
           "automargin": true,
           "gridcolor": "white",
           "linecolor": "white",
           "ticks": "",
           "title": {
            "standoff": 15
           },
           "zerolinecolor": "white",
           "zerolinewidth": 2
          },
          "yaxis": {
           "automargin": true,
           "gridcolor": "white",
           "linecolor": "white",
           "ticks": "",
           "title": {
            "standoff": 15
           },
           "zerolinecolor": "white",
           "zerolinewidth": 2
          }
         }
        },
        "title": {
         "text": ""
        },
        "width": 700,
        "xaxis": {
         "title": {
          "font": {
           "color": "#7f7f7f",
           "family": "Courier New, monospace",
           "size": 18
          },
          "text": "True value"
         }
        },
        "yaxis": {
         "title": {
          "font": {
           "color": "#7f7f7f",
           "family": "Courier New, monospace",
           "size": 18
          },
          "text": "Predicted value"
         }
        }
       }
      }
     },
     "metadata": {},
     "output_type": "display_data"
    }
   ],
   "source": [
    "# Predict\n",
    "mean, var, perc, mode, samples, sampling_time = model.calc_posterior_constrained(x_test, num_samples = 1000, save_samples = 5)\n",
    "mean = np.array(mean).flatten()\n",
    "lower = perc[0]\n",
    "upper = perc[2]\n",
    "var = np.array(var).flatten()\n",
    "\n",
    "# Plot\n",
    "fig = pred_vs_error_perc(mean, lower, upper, y_test, 95)\n",
    "pltlyoff.iplot(fig, filename='')"
   ]
  }
 ],
 "metadata": {
  "kernelspec": {
   "display_name": "Python 3",
   "language": "python",
   "name": "python3"
  },
  "language_info": {
   "codemirror_mode": {
    "name": "ipython",
    "version": 3
   },
   "file_extension": ".py",
   "mimetype": "text/x-python",
   "name": "python",
   "nbconvert_exporter": "python",
   "pygments_lexer": "ipython3",
   "version": "3.10.5"
  },
  "vscode": {
   "interpreter": {
    "hash": "912d6611990680b3d240e982c9d50f3da4c776707cfd42695cf7d82c88d80956"
   }
  }
 },
 "nbformat": 4,
 "nbformat_minor": 2
}
